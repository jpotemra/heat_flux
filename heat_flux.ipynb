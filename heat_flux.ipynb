{
 "cells": [
  {
   "cell_type": "markdown",
   "metadata": {},
   "source": [
    "# Surface Heat Fluxes at Ocean Reference Sites (ORS)\n",
    "\n",
    "__J. Potemra__\n",
    "<br>\n",
    "_June 2020_"
   ]
  },
  {
   "cell_type": "markdown",
   "metadata": {},
   "source": [
    "## Introduction\n",
    "\n",
    "These notes are focused on the analysis of surface heat fluxed from three Ocean Reference Sites (ORS).  These include WHOTS in the central Pacific (near Hawaii), Stratus in the eastern equatorial Pacific, and NTAS in the western Atlantic.  The three sites provide high-temporal resolution observations of many different variables.  The initial investigation was to examine signals in these observations (variability and trends) and to compare the observations of heat flux from the operational climate model CFSv2.\n",
    "\n",
    "Net surface heat flux is an important component of air-sea interaction and a main contributor to upper-ocean buoyancy.  Net surface heat flux, $Q_{NET}$, is the sum of four components: the turbulent fluxes of latent ($Q_{E}$) and sensible heat ($Q_{H}$) and the radiative fluxes from short- ($Q_{S}$) and long-wave ($Q_{L}$) radiation.  Short-wave radiation supplies heat to the ocean, while the other three typically act to cool the ocean's surface. Using the convention of positive downward fluxes (so a positive $Q_{NET}$ would lead to warming of the ocean), the net heat may  be expressed as:\n",
    "\n",
    "\\begin{eqnarray}\n",
    "Q_{NET} = Q_{S} - Q_{L} - Q_{E} - Q_{H}\n",
    "\\end{eqnarray}\n",
    "\n",
    "Direct measurements of these are difficult, and they are usually computed from state variables (e.g., sea surface temperature, air temperature, humidity, etc.) using bulk formulae.  Here we will look in more detail at the radiative fluxes.  These are measured (in part) directly at the WHOTS site, and are provided as output from the Coupled Forecast System (CFSv2)."
   ]
  },
  {
   "cell_type": "markdown",
   "metadata": {},
   "source": [
    "## Shortwave Radiation\n",
    "\n",
    "Solar irradiance provides shortwave radiation to the Earth's surface.  The amount of shortwave radiation reaching the ocean surface depends on atmospheric conditions (mostly clouds). The amount of $Q_{S}$ that is aborbed by the ocean is then a function of the amount reaching the surface less the amount that is reflected back (albedo).  This may be written as:\n",
    "\n",
    "\\begin{eqnarray}\n",
    "Q_{S} =  ( Q_{cls} - Q_{cld} ) - Q_{ref} \n",
    "\\end{eqnarray}\n",
    "\n",
    "The clear-sky irradiance ($Q_{cls}$) is a function of time and latitude.  The time dependence has two parts: the time of day (e.g., $Q_{cls}$ would be zero at night and peak near mid-day) and the day of the year (the noontime solar angle changes seasonally).  $Q_{cld}$ is a function of atmospheric conditions (clouds), while $Q_{ref}$ is a function of the surface type (reflective or not).\n",
    "\n",
    "There are several ways to compute $Q_{S}$, e.g., use an equation to compute $Q_{cls}$, assume an albedo (and therefore $Q_{ref}$ and use observations to get the cloud cover.  In this case, $Q_{S}$ is given by:\n",
    "\n",
    "\\begin{eqnarray}\n",
    "Q_{I} = Q_{cls} - Q_{cld} \\\\\n",
    "Q_{S} = ( 1 - \\alpha ) Q_{I}\n",
    "\\end{eqnarray}\n",
    "\n",
    "where $\\alpha$ is the albedo or $\\frac{Q_{ref}}{Q_{I}}$ (the ration of reflected and total incoming short-wave radiation.  Numerical models use a parameterization that typically includes a constant albedo and time-varying cloudiness ($n_{c}$):\n",
    "\n",
    "\\begin{eqnarray}\n",
    "Q_{S} = ( 1 - 0.62 n_{c} + 0.0019 \\theta )\n",
    "\\end{eqnarray}\n",
    "\n",
    "where $n_{c}$ is the fraction of cloud cover (0 being clear sky, 1 meaning complete coverage) and $\\theta$ is the noon solar angle.\n",
    "\n",
    "Moorings on the other hand measure the net downward short-wave at the ocean surface (mooring tower).  This measurement includes any cloud effects, thus is a measurement of $Q_{I}$; $Q_{obs} = Q_{I}$.  The calculation of $Q_{S}$ therefore reduces to $Q_{S} = ( 1 - \\alpha ) Q_{obs}$.  Most (e.g., Cronin and McPhaden [1997]) use a constant albedo of 0.055.\n",
    "\n",
    "The following notebook compares different parameterizations of clear-sky irradiance with observations and the coupled model.\n",
    "\n",
    "[shortwave notebook](shortwave.ipynb)"
   ]
  },
  {
   "cell_type": "markdown",
   "metadata": {},
   "source": [
    "## Longwave Radiation\n",
    "\n",
    "Longwave, or blackbody, radiation is a direct function of temperature.  Typically this is derived as\n",
    "\n",
    "\\begin{eqnarray}\n",
    "Q_{L} = \\epsilon \\sigma T^4\n",
    "\\end{eqnarray}\n",
    "\n",
    "Where $\\epsilon$ is the emmisivity of the object, $\\sigma$ is the Stefan-Boltzman constant, and $T$ is the temperature of the body.  Most papers use values of 0.97 to 1.0 for the emissivity, and $5.67 x 10^{-12} W m^{-2} K^{4}$.\n",
    "\n",
    "For the ocean surface the calculation is a little more complicated since the atmosphere can act to both reflect and emit additional longwave radiation.  This effect can be parameterized in a few different ways (see Fung et al. 1984 Reviews of Geophysics).  These follow a similar form, and one widely use one is by Hastenrath and Lamb (1978)\n",
    "\n",
    "\\begin{eqnarray}\n",
    "Q_{L} = \\epsilon \\sigma T_{SST}^4 \\left[ 0.39 - 0.56(q)^\\frac{1}{2} \\right] F(c) + 4 \\epsilon \\sigma T_{SST}^3 ( T_{SST} - T_{air} )\n",
    "\\end{eqnarray}\n",
    "\n",
    "Here, $T_{SST}$ is the sea surface temperature, $T_{air}$ is the surface air temperature, $F(c)$ is a cloud correction factor and $q$ is specific humidty at the ocean surface.  Hastenrath and Lamb express $F(c)$ as\n",
    "\n",
    "\\begin{eqnarray}\n",
    "F(c) = 1 - b c^{2}\n",
    "\\end{eqnarray}\n",
    "\n",
    "where $c$ is cloud fraction (so for example clear sky would have $c=0$ and $F(c) = 1$. Fung et al. (1984) express net longwave radiation as the difference between upward $Q_{L}$ and downward.  The latter coming from atmospheric effects.  They further state under clear-sky conditions, the above equation reduces to:\n",
    "\n",
    "\\begin{eqnarray}\n",
    "Q_{L} = \\epsilon \\sigma T_{SST}^{4} f(q)\n",
    "\\end{eqnarray}\n",
    "\n",
    "where $f(q)$ is a function of specific humidity (atmospheric effects).  What is still not clear is how to separate downward from upward.  Upward is given as $\\epsilon \\sigma T_{SST}^{4}$, but the above equation suggests a non-linear relationship.\n",
    "\n",
    "The ORS moorings measure downward longwave radiation directly. The emitted $Q_{L}$ is computed directly from the first equation above. This notebook investigates the relationship between $SST$ and measured longwave radiation.\n",
    "\n",
    "[longwave notebook](longwave.ipynb)"
   ]
  },
  {
   "cell_type": "markdown",
   "metadata": {},
   "source": [
    "## Latent Heat\n",
    "\n",
    "Latent heat is typically not measured directly but instead computed from bulk formulae.  The current standard method is using the COARE Bulk Flux Algorithm (see Fairall, C.W., E. F. Bradley, J. E. Hare, A. A. Grachev, and J. B. Edson, 2003: Bulk Parameterization of Air-Sea Fluxes: Updates and Verification for the COARE Algorithm. J. Climate, 16, pp 571-591).\n",
    "\n",
    "The code for the CBA is avaible in different places, mostly in Matlab and FORTRAN (https://www.pmel.noaa.gov/ocs/flux-documentation).  Here we use a python package for CBA-3.6 (see for example coare_bulk_flux.ipynb).\n",
    "\n",
    "There are a few representations of latent heat flux around, but the basic equation is:\n",
    "\n",
    "\\begin{eqnarray}\n",
    "Q_{E} = \\rho_{air} L_{v} E\n",
    "\\end{eqnarray}\n",
    "\n",
    "where $\\rho_{air}$ is the density of air, $L_{v}$ is the latent heat of vaporization and $E$ is evaporation.  All three of these are computed from the state variables.\n",
    "\n",
    "[latent heat notebook](latent.ipynb)"
   ]
  },
  {
   "cell_type": "markdown",
   "metadata": {},
   "source": [
    "## Sensible Heat\n",
    "\n",
    "Like latent heat flux, sensible heat is typically not measured directly but instead computed from bulk formulae.  The current standard method is using the COARE Bulk Flux Algorithm (see Fairall, C.W., E. F. Bradley, J. E. Hare, A. A. Grachev, and J. B. Edson, 2003: Bulk Parameterization of Air-Sea Fluxes: Updates and Verification for the COARE Algorithm. J. Climate, 16, pp 571-591).\n",
    "\n",
    "The code for the CBA is avaible in different places, mostly in Matlab and FORTRAN (https://www.pmel.noaa.gov/ocs/flux-documentation).  Here we use a python package for CBA-3.6 (see for example coare_bulk_flux.ipynb).\n",
    "\n",
    "Sensible heat is based on air density ($\\rho_{air}$), specific heat ($C_{P}$, taken as a constant 1004.67 $J/^{\\circ}K/kg$), wind speed ($u_{air}$ and temperature ($T_{air}$): \n",
    "\n",
    "\\begin{eqnarray}\n",
    "  Q_{h} = \\rho_{air} C_{P} u_{*} T_{*}\n",
    "\\end{eqnarray}\n",
    "\n",
    "As before, $\\rho_{air}$ and $C_{P}$ are computed from various equations.  $u_{*}$ and $T_{*}$ are solved iteratively.\n",
    "\n",
    "[sensible heat notebook](sensible.ipynb)                                                                                                                           "
   ]
  }
 ],
 "metadata": {
  "kernelspec": {
   "display_name": "Python 3",
   "language": "python",
   "name": "python3"
  },
  "language_info": {
   "codemirror_mode": {
    "name": "ipython",
    "version": 3
   },
   "file_extension": ".py",
   "mimetype": "text/x-python",
   "name": "python",
   "nbconvert_exporter": "python",
   "pygments_lexer": "ipython3",
   "version": "3.7.1"
  }
 },
 "nbformat": 4,
 "nbformat_minor": 2
}
